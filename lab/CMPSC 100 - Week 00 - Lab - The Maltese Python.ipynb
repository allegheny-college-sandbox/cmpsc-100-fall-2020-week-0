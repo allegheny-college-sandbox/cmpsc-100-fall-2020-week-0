{
 "cells": [
  {
   "cell_type": "markdown",
   "metadata": {},
   "source": [
    "```\n",
    "[GARRETT]\n",
    "    \\    [BALCONY]                                 [LARDER]\n",
    "     \\      /                                         /\n",
    "    [TERRARIUM] [LIBRARY]   [GALLERY]    [CELLAR]    /\n",
    "             \\    |              |           |      /    \n",
    "              \\   |   ------------           |     /\n",
    "               \\  |  /                       |    /\n",
    "            [CONSERVATORY]                   |   /\n",
    "                  |              -------[KITCHEN]\n",
    "                  |              |\n",
    "               [BALLROOM]   [DININGROOM]  \n",
    "                         \\ /\n",
    "                          |\n",
    "                   [GRAND STAIRCASE]\n",
    "                          |\n",
    "                [PARLOR]  | [DRAWING ROOM]\n",
    "                      \\   |   /\n",
    "                       \\  |  /\n",
    "                        \\ | /\n",
    "                         \\|/\n",
    "                          |\n",
    "                          |\n",
    "                       [FOYER]\n",
    "```"
   ]
  },
  {
   "cell_type": "code",
   "execution_count": null,
   "metadata": {},
   "outputs": [],
   "source": []
  }
 ],
 "metadata": {
  "kernelspec": {
   "display_name": "Python 3",
   "language": "python",
   "name": "python3"
  },
  "language_info": {
   "codemirror_mode": {
    "name": "ipython",
    "version": 3
   },
   "file_extension": ".py",
   "mimetype": "text/x-python",
   "name": "python",
   "nbconvert_exporter": "python",
   "pygments_lexer": "ipython3",
   "version": "3.8.2"
  }
 },
 "nbformat": 4,
 "nbformat_minor": 4
}
