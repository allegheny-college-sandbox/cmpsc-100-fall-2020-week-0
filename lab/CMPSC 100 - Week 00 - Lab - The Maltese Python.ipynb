{
 "cells": [
  {
   "cell_type": "markdown",
   "metadata": {
    "deletable": false,
    "editable": false
   },
   "source": [
    "# CMPSC 100: _The Maltese Python_\n",
    "\n",
    "---\n",
    "\n",
    "## Overview\n",
    "\n",
    "> In 2020 a professor attempted to boggle their students' minds by sending them a game in which they hid a Golden Python whose scales were conjured from digital text. An enterprising computer system seized this priceless token and the fate of the Maltese Python remains a mystery to this day...\n",
    " \n",
    "For no reason whatsoever, you find yourself at the door to the very mansion where rumors place the whereabouts of the Maltese Python. (Is there really any benefit to asking why you find yourself here?)\n",
    " \n",
    "Of course, however, this is a digital mansion made of folders located in the `/mansion` file system and, as you would expect, this activity is meant to help you practice commands like: \n",
    " \n",
    "* `cd`\n",
    "* `ls`\n",
    "* `pwd`\n",
    "\n",
    "You will use these commands to go from room to room in the mansion, keeping an eye out for secret passages (**HINT**: typing `secretpassages` at any time _may_ help you).When you think you 've found the python itself (you'll know when you do), type `claim` to steal it away (to your home directory; think `~`).\n",
    " \n",
    "Keep the mansion map handy so that as you `cd` and `pwd` through the directory structure.\n",
    "\n",
    "### Special note\n",
    "\n",
    "`secretpassage` and `claim` _are not_ traditional terminal commands. They're made up for this exercise. Not real, but no less fun.\n",
    "\n",
    "## Mansion map\n",
    "\n",
    "```\n",
    "[GARRET]\n",
    "    \\     [BALCONY]                                 [LARDER]\n",
    "     \\      /                                         /\n",
    "    [TERRARIUM] [LIBRARY]     [GALLERY]  [CELLAR]    /\n",
    "             \\    |              |          |       /    \n",
    "              \\   |  ------------           |      /\n",
    "               \\  |  /                      |     /\n",
    "            [CONSERVATORY]                  |    /\n",
    "                  |              -------[KITCHEN]\n",
    "                  |              |\n",
    "               [BALLROOM]   [DININGROOM]  \n",
    "                         \\ /\n",
    "                          |\n",
    "                   [GRAND STAIRCASE]\n",
    "                          |\n",
    "                [PARLOR]  | [DRAWING ROOM]\n",
    "                      \\   |   /\n",
    "                       \\  |  /\n",
    "                        \\ | /\n",
    "                         \\|/\n",
    "                          |\n",
    "                          |\n",
    "                       [FOYER] <---- You start here\n",
    "```\n",
    "\n",
    "## Requirements\n",
    "\n",
    "* `the_maltese_python!` file is `claim`ed\n",
    "* The file (`the_maltese_python!`) is in the `lab` folder of your assignment repository\n",
    "  * The `claim` command performs this action for you\n",
    "* A completed:\n",
    "  * [Q & A section (see below)](#Q-&-A)\n",
    "  * Reflection (see `reflection.md` in the `lab` directory)\n",
    "\n",
    "## Command chart\n",
    "\n",
    "Here's a table containing all of the commands that you should use to complete this exercise and some examples of each:\n",
    "\n",
    "|Command|Full name|Paraphrase|Examples|\n",
    "|-------|---------|----------|--------|\n",
    "|`cd`|**C**hange **D**irectory|I would like to go...|`cd ..` (down one level)|\n",
    "|`ls`|**L**i**s**t|What can I see?|`ls` (list current directory)|\n",
    "|`pwd`|**P**ath to **W**orking **D**irectory|Where am I?|`pwd` (gets current directory)|\n",
    "\n",
    "## Tips\n",
    "\n",
    "* Keep in mind that while `secretpassage` _may_ help you, it equally _may not_\n",
    "* Practice `cd`, `pwd`, and `ls` liberally -- you won't hurt anything\n",
    "* If you're stuck, use the `pwd` command and consult the [mansion map](#Mansion-map)\n",
    "* Don't forget to `claim` the real Maltese Python when you find it!\n",
    "\n",
    "## If you're ready...\n",
    "\n",
    "* Click the link below to open a terminal\n",
    "* Use `cd /mansion` as your first command to access the Mansion"
   ]
  },
  {
   "cell_type": "code",
   "execution_count": 22,
   "metadata": {
    "deletable": false,
    "editable": false
   },
   "outputs": [
    {
     "data": {
      "text/html": [
       "👩‍💻 <a href=\"\", data-commandlinker-command=\"terminal:create-new\">Open terminal</a>"
      ],
      "text/plain": [
       "<IPython.core.display.HTML object>"
      ]
     },
     "execution_count": 22,
     "metadata": {},
     "output_type": "execute_result"
    }
   ],
   "source": [
    "from IPython.display import HTML\n",
    "HTML('👩‍💻 <a href=\"\", data-commandlinker-command=\"terminal:create-new\">Open terminal</a>')"
   ]
  },
  {
   "cell_type": "markdown",
   "metadata": {},
   "source": [
    "## Q & A\n",
    "\n",
    "Note that `secretpassage` and `claim` do not work here."
   ]
  },
  {
   "cell_type": "markdown",
   "metadata": {
    "deletable": false,
    "editable": false
   },
   "source": [
    "### In the cell below, `cd` to the final directory where you found the Maltese Python).\n",
    "\n",
    "|For the less comfortable|For the more comfortable|\n",
    "|------------------------|------------------------|\n",
    "|Perfom the action in steps|Complete the action in one step|"
   ]
  },
  {
   "cell_type": "code",
   "execution_count": 2,
   "metadata": {},
   "outputs": [
    {
     "name": "stdout",
     "output_type": "stream",
     "text": [
      "/mansion/foyer/grandstaircase/ballroom/conservatory/terrarium/garret\n"
     ]
    }
   ],
   "source": [
    "cd /mansion/foyer/grandstaircase/ballroom/conservatory/terrarium/garret"
   ]
  },
  {
   "cell_type": "markdown",
   "metadata": {
    "deletable": false,
    "editable": false
   },
   "source": [
    "### Run the `pwd` command to demonstrate that you've arrived at the correct location."
   ]
  },
  {
   "cell_type": "code",
   "execution_count": 3,
   "metadata": {},
   "outputs": [
    {
     "data": {
      "text/plain": [
       "'/mansion/foyer/grandstaircase/ballroom/conservatory/terrarium/garret'"
      ]
     },
     "execution_count": 3,
     "metadata": {},
     "output_type": "execute_result"
    }
   ],
   "source": [
    "pwd"
   ]
  },
  {
   "cell_type": "markdown",
   "metadata": {
    "deletable": false,
    "editable": false
   },
   "source": [
    "### `ls` one final time to \"look around\""
   ]
  },
  {
   "cell_type": "code",
   "execution_count": 4,
   "metadata": {},
   "outputs": [
    {
     "name": "stdout",
     "output_type": "stream",
     "text": [
      "'the_maltese_python!'\n"
     ]
    }
   ],
   "source": [
    "ls"
   ]
  },
  {
   "cell_type": "markdown",
   "metadata": {
    "deletable": false,
    "editable": false
   },
   "source": [
    "### Oh, no! You've heard a noise -- there must be someone following you: `cd` to your home directory immediately!"
   ]
  },
  {
   "cell_type": "code",
   "execution_count": 5,
   "metadata": {},
   "outputs": [
    {
     "name": "stdout",
     "output_type": "stream",
     "text": [
      "/jupyter/dluman\n"
     ]
    }
   ],
   "source": [
    "cd ~"
   ]
  },
  {
   "cell_type": "markdown",
   "metadata": {
    "deletable": false,
    "editable": false
   },
   "source": [
    "### Of course, we need to be sure that the Python is safe. Find the artifact in the `lab` directory of this repository.\n",
    "\n",
    "When you think you've reached the right location, type `ls the_maltese_python!` to verify; the statue should be the only thing you see. (This command **l**i**s**ts files with the _exact_ name of our treasure!)\n",
    "\n",
    "If you see the following message:\n",
    "\n",
    "```\n",
    "ls: cannot access 'the_maltese_python!': No such file or directory\n",
    "```\n",
    "\n",
    "you may need to <a href = \"#If-you're-ready...\">enter</a> the `/mansion` once again to retrieve it!"
   ]
  },
  {
   "cell_type": "code",
   "execution_count": 16,
   "metadata": {},
   "outputs": [
    {
     "name": "stdout",
     "output_type": "stream",
     "text": [
      "[Errno 2] No such file or directory: 'cmpsc-100-fall-2020-week-00-configuration'\n",
      "/jupyter/dluman/cmpsc-100-fall-2020-week-00-configuration/lab\n"
     ]
    }
   ],
   "source": [
    "cd cmpsc-100-fall-2020-week-00-configuration"
   ]
  },
  {
   "cell_type": "code",
   "execution_count": 13,
   "metadata": {},
   "outputs": [
    {
     "name": "stdout",
     "output_type": "stream",
     "text": [
      "/jupyter/dluman/cmpsc-100-fall-2020-week-00-configuration/lab\n"
     ]
    }
   ],
   "source": [
    "cd lab"
   ]
  },
  {
   "cell_type": "code",
   "execution_count": 14,
   "metadata": {},
   "outputs": [
    {
     "name": "stdout",
     "output_type": "stream",
     "text": [
      "'CMPSC 100 - Week 00 - Lab - The Maltese Python.ipynb'   gradle.properties\n",
      " build.gradle                                            reflection.md\n",
      " \u001b[0m\u001b[01;34mconfig\u001b[0m/\n"
     ]
    }
   ],
   "source": [
    "ls"
   ]
  },
  {
   "cell_type": "code",
   "execution_count": 18,
   "metadata": {},
   "outputs": [
    {
     "name": "stdout",
     "output_type": "stream",
     "text": [
      "'the_maltese_python!'\n"
     ]
    }
   ],
   "source": [
    "ls the_maltese_python!"
   ]
  }
 ],
 "metadata": {
  "kernelspec": {
   "display_name": "Python 3",
   "language": "python",
   "name": "python3"
  },
  "language_info": {
   "codemirror_mode": {
    "name": "ipython",
    "version": 3
   },
   "file_extension": ".py",
   "mimetype": "text/x-python",
   "name": "python",
   "nbconvert_exporter": "python",
   "pygments_lexer": "ipython3",
   "version": "3.8.2"
  }
 },
 "nbformat": 4,
 "nbformat_minor": 4
}
