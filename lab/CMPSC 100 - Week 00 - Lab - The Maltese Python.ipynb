{
 "cells": [
  {
   "cell_type": "markdown",
   "metadata": {},
   "source": [
    "# CMPSC 100: _The Maltese Python_\n",
    "\n",
    "---\n",
    "\n",
    "In 2020 a professor attempted to boggle their students' minds by sending them a game in which they hid a Golden Python whose scales were conjured from digital text—an enterprising computer system seized this priceless token and the fate of the Maltese Python remains a mystery to this day...\n",
    "\n",
    "## Mansion map\n",
    "\n",
    "```\n",
    "[GARRET]\n",
    "    \\     [BALCONY]                                 [LARDER]\n",
    "     \\      /                                         /\n",
    "    [TERRARIUM] [LIBRARY]   [GALLERY]    [CELLAR]    /\n",
    "             \\    |              |           |      /    \n",
    "              \\   |   ------------           |     /\n",
    "               \\  |  /                       |    /\n",
    "            [CONSERVATORY]                   |   /\n",
    "                  |              -------[KITCHEN]\n",
    "                  |              |\n",
    "               [BALLROOM]   [DININGROOM]  \n",
    "                         \\ /\n",
    "                          |\n",
    "                   [GRAND STAIRCASE]\n",
    "                          |\n",
    "                [PARLOR]  | [DRAWING ROOM]\n",
    "                      \\   |   /\n",
    "                       \\  |  /\n",
    "                        \\ | /\n",
    "                         \\|/\n",
    "                          |\n",
    "                          |\n",
    "                       [FOYER]\n",
    "```"
   ]
  },
  {
   "cell_type": "code",
   "execution_count": null,
   "metadata": {},
   "outputs": [],
   "source": []
  }
 ],
 "metadata": {
  "kernelspec": {
   "display_name": "Python 3",
   "language": "python",
   "name": "python3"
  },
  "language_info": {
   "codemirror_mode": {
    "name": "ipython",
    "version": 3
   },
   "file_extension": ".py",
   "mimetype": "text/x-python",
   "name": "python",
   "nbconvert_exporter": "python",
   "pygments_lexer": "ipython3",
   "version": "3.8.2"
  }
 },
 "nbformat": 4,
 "nbformat_minor": 4
}
