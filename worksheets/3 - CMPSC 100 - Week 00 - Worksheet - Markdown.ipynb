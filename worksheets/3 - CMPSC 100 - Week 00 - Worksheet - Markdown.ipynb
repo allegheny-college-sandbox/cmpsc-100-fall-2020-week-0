{
 "cells": [
  {
   "cell_type": "markdown",
   "metadata": {},
   "source": [
    "# CMPSC 100: `Markdown`\n",
    "\n",
    "## Table of contents\n",
    "\n",
    "* [What is Markdown](#What-is-Markdown?)\n",
    "* [Where do we use Markdown?](#Where-do-we-use-Markdown?)\n",
    "* [Activity](#Activity)\n",
    "\n",
    "## What is Markdown?\n",
    "\n",
    "Markdown is simply a set of rules governing a document which emphasizes the _structure_ of a document over formatting. We'll call these rules a \"syntax\" (this word means that there's a formal way of \"speaking\" Markdown; don't forget that all written/spoken languages have a syntax, too).\n",
    "\n",
    "According to the acknowledged creator of Markdown, it's supposed to:\n",
    "\n",
    "> make [documents] as readable as possible. The idea is that a Markdown-formatted document should be publishable as-is, as plain text, without looking like it’s been marked up with tags or formatting instructions.\n",
    "\n",
    "This motivation saves you from needing to open Microsoft Word or create a Google Doc just to make a simple document. Here, you can do it quickly in just a text editor.\n",
    "\n",
    "But, as many folks correctly note -- when one says they use \"Markdown,\" it's a bit confusing. In our courses, because we use GitHub, we use [GitHub \"flavored\" Markdown](https://guides.github.com/features/mastering-markdown/).\n",
    "\n",
    "(The above-linked guide is the official \"getting started\" guide from GitHub.)\n",
    "\n",
    "## Where do we use Markdown?\n",
    "\n",
    "Markdown appears on its own (in files called `.md` files) or in Jupter notebooks -- like the one you're seeing _right now_. In fact, if you double-click this cell, you'll see what the Markdown looks like behind all of this writing.\n",
    "\n",
    "## Activity\n",
    "\n",
    "To prepare for this activity, read:\n",
    "\n",
    "* [GitHub's \"Mastering Markdown\"](https://guides.github.com/features/mastering-markdown/)"
   ]
  },
  {
   "cell_type": "markdown",
   "metadata": {},
   "source": [
    "### Task\n",
    "\n",
    "* Open [the blank Markdown file provided](3%20-%20CMPSC%20100%20-%20Week%2000%20-%20Worksheet%20-%20Markdown.md)\n",
    "  * It's listed as `3 - CMPSC 100 - Week 00 - Worksheet - Markdown.md`\n",
    "* Transform [this article](https://www.theverge.com/2018/7/17/17577784/jupiter-moons-carnegie-science-blanco-telescope-valetudo) into a Markdown docuemnt\n",
    "  * The resulting document should have:\n",
    "    * 1 Level One heading\n",
    "    * 2 blockquotes\n",
    "    * 1 link\n",
    "    * 1 set of text set in italics\n",
    "    * 10 paragraphs\n",
    "    * 1 list\n",
    "  * Bonus:\n",
    "    * Include all of the story's original images\n",
    "      * There are 4"
   ]
  }
 ],
 "metadata": {
  "kernelspec": {
   "display_name": "Python 3",
   "language": "python",
   "name": "python3"
  },
  "language_info": {
   "codemirror_mode": {
    "name": "ipython",
    "version": 3
   },
   "file_extension": ".py",
   "mimetype": "text/x-python",
   "name": "python",
   "nbconvert_exporter": "python",
   "pygments_lexer": "ipython3",
   "version": "3.8.2"
  }
 },
 "nbformat": 4,
 "nbformat_minor": 4
}
