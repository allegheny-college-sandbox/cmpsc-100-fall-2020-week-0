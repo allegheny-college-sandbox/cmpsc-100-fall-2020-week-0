{
 "cells": [
  {
   "cell_type": "markdown",
   "metadata": {},
   "source": [
    "# CMPSC 100: `Configuration`\n",
    "\n",
    "---\n",
    "\n",
    "The following worksheet serves as a checklist providing the steps required to complete class platform setup. By virtue of the fact that you can see and interact with this worksheet, you've already done some of these. Steps you have completed are ~struck through~ in the list below.\n",
    "\n",
    "## Table of Contents\n",
    "\n",
    "* [Setting up platforms](#Setting-up-platforms)"
   ]
  },
  {
   "cell_type": "markdown",
   "metadata": {},
   "source": [
    "## Setting up platforms\n",
    "\n",
    "### GitHub\n",
    "\n",
    "* ~Create GitHub account~\n",
    "* ~Setup SSH Key~\n",
    "* ~`clone` your first repository~\n",
    "\n",
    "### Slack\n",
    "\n",
    "* Accept my [invitation to our Slack workspace]()"
   ]
  },
  {
   "cell_type": "code",
   "execution_count": null,
   "metadata": {},
   "outputs": [],
   "source": []
  }
 ],
 "metadata": {
  "kernelspec": {
   "display_name": "Python 3",
   "language": "python",
   "name": "python3"
  },
  "language_info": {
   "codemirror_mode": {
    "name": "ipython",
    "version": 3
   },
   "file_extension": ".py",
   "mimetype": "text/x-python",
   "name": "python",
   "nbconvert_exporter": "python",
   "pygments_lexer": "ipython3",
   "version": "3.8.2"
  }
 },
 "nbformat": 4,
 "nbformat_minor": 4
}
