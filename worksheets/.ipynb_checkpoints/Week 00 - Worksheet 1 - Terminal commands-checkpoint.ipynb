{
 "cells": [
  {
   "cell_type": "markdown",
   "metadata": {},
   "source": [
    "# Week 00, Worksheet 2: Getting comfortable with the terminal\n",
    " \n",
    "We'll gain some experience with our terminal and Jupyter notebooks in this activity. \n",
    "\n",
    "## Table of contents\n",
    "---\n",
    "\n",
    "* [Understanding the terminal](#Understanding-the-terminal)\n",
    "* [Basic commands](#Basic-commands)\n",
    "* [Finishing this activity](#Finishing-this-activity)\n",
    "\n"
   ]
  },
  {
   "cell_type": "code",
   "execution_count": null,
   "metadata": {},
   "outputs": [],
   "source": []
  }
 ],
 "metadata": {
  "kernelspec": {
   "display_name": "Python 3",
   "language": "python",
   "name": "python3"
  },
  "language_info": {
   "codemirror_mode": {
    "name": "ipython",
    "version": 3
   },
   "file_extension": ".py",
   "mimetype": "text/x-python",
   "name": "python",
   "nbconvert_exporter": "python",
   "pygments_lexer": "ipython3",
   "version": "3.8.2"
  }
 },
 "nbformat": 4,
 "nbformat_minor": 4
}
