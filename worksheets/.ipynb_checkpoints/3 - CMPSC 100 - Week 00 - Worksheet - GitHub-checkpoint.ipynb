{
 "cells": [
  {
   "cell_type": "markdown",
   "metadata": {},
   "source": [
    "# CMPSC 100: `Terminal commands`\n",
    "\n",
    "---\n",
    "\n",
    "This worksheet allows you to practice terminal commands such as\n",
    "\n",
    "* `cd`\n",
    "* `ls`\n",
    "* `pwd`\n",
    "\n",
    "## Table of Contents\n",
    "\n",
    "* [Navigating using terminal commands](#Navigating-using-terminal-commands)"
   ]
  },
  {
   "cell_type": "markdown",
   "metadata": {},
   "source": [
    "## Navigating using terminal commands"
   ]
  },
  {
   "cell_type": "markdown",
   "metadata": {},
   "source": [
    "### `pwd`\n",
    "\n",
    "`pwd` stands for **p**ath to **w**orking **d**irectory. This command helps us find out where we are in a given \"file system.\"\n",
    "\n",
    "So, let's find out where we are. Type `pwd` and then press `Shift` + `Enter` in the blank below."
   ]
  },
  {
   "cell_type": "code",
   "execution_count": 1,
   "metadata": {},
   "outputs": [
    {
     "data": {
      "text/plain": [
       "'/jupyter/dluman/cmpsc-100-fall-2020-week-00-configuration/worksheets'"
      ]
     },
     "execution_count": 1,
     "metadata": {},
     "output_type": "execute_result"
    }
   ],
   "source": [
    "pwd"
   ]
  },
  {
   "cell_type": "markdown",
   "metadata": {},
   "source": [
    "Does this answer make sense? If you look elsewhere on this screen, is there any indication that this is true?"
   ]
  },
  {
   "cell_type": "markdown",
   "metadata": {},
   "source": [
    "`TODO: Answer`"
   ]
  },
  {
   "cell_type": "markdown",
   "metadata": {},
   "source": [
    "If we ever forget where we are in a Unix terminal, we can always type `pwd` to remind ourselves."
   ]
  },
  {
   "cell_type": "markdown",
   "metadata": {},
   "source": [
    "### `ls`\n",
    "\n",
    "A simple contraction, `ls` stands for **l**i**s**t. The `ls` command, rather than finding out where we are, tells us _what's there_ in a _list_. Think of this as what we can _see_.\n",
    "\n",
    "Try it for yourself below."
   ]
  },
  {
   "cell_type": "code",
   "execution_count": 2,
   "metadata": {},
   "outputs": [
    {
     "name": "stdout",
     "output_type": "stream",
     "text": [
      "'1 - CMPSC 100 - Week 00 - Worksheet - Configuration.ipynb'\n",
      "'2 - CMPSC 100 - Week 00 - Worksheet - Terminal commands.ipynb'\n",
      "'3 - CMPSC 100 - Week 00 - Worksheet - Markdown.md'\n",
      " build.gradle\n",
      " \u001b[0m\u001b[01;34mconfig\u001b[0m/\n",
      " gradle.properties\n"
     ]
    }
   ],
   "source": [
    "ls"
   ]
  },
  {
   "cell_type": "markdown",
   "metadata": {},
   "source": [
    "Based on your work with `pwd` above, does this list make sense? Why or why not?"
   ]
  },
  {
   "cell_type": "markdown",
   "metadata": {},
   "source": [
    "`TODO: Answer`"
   ]
  },
  {
   "cell_type": "markdown",
   "metadata": {},
   "source": [
    "If we're interested in finding a file or knowing if a file exists where we are so that we can work on it, the `ls` command -- combined with `pwd` -- will help us find what we're looking for."
   ]
  },
  {
   "cell_type": "markdown",
   "metadata": {},
   "source": [
    "### `cd`\n",
    "\n",
    "Contrary to `pwd` and `ls`, `cd` moves us around -- it's short for **c**hange **d**irectory. Unix harddrives are organized into \"file systems\" made of directories. All files are stored this way.\n",
    "\n",
    "One handy shortcut is to use `cd` by itself. This will always return you to your home directory (denoted in Unix as `~`). Try it out below."
   ]
  },
  {
   "cell_type": "code",
   "execution_count": 3,
   "metadata": {},
   "outputs": [
    {
     "name": "stdout",
     "output_type": "stream",
     "text": [
      "/jupyter/dluman\n"
     ]
    }
   ],
   "source": [
    "cd"
   ]
  },
  {
   "cell_type": "markdown",
   "metadata": {},
   "source": [
    "And now, if we `pwd`, what do you expect to see if you've `cd`'ed home? After you've answered, try it out: `pwd` in the blank below your answer."
   ]
  },
  {
   "cell_type": "markdown",
   "metadata": {},
   "source": [
    "`TODO: Answer`"
   ]
  },
  {
   "cell_type": "code",
   "execution_count": 4,
   "metadata": {},
   "outputs": [
    {
     "data": {
      "text/plain": [
       "'/jupyter/dluman'"
      ]
     },
     "execution_count": 4,
     "metadata": {},
     "output_type": "execute_result"
    }
   ],
   "source": [
    "pwd"
   ]
  },
  {
   "cell_type": "markdown",
   "metadata": {},
   "source": [
    "We're \"home,\" but we'd rather be where this worksheet is: `cmpsc-100-fall-2020-week-00-configuration/worksheets`. We can `cd` our way there.\n",
    "\n",
    "Unix \"file systems\" are made up of \"nested\" directories (i.e. contained within one another). This is often referred to as a \"tree.\" And, like any good tree, we can climb up or down it.\n",
    "\n",
    "But -- a dilemma: how do we know where we can go? If we `pwd`, we can find out where we are, but what command shows us what we can _see_? Enter the command in the blank below."
   ]
  },
  {
   "cell_type": "code",
   "execution_count": 5,
   "metadata": {},
   "outputs": [
    {
     "name": "stdout",
     "output_type": "stream",
     "text": [
      "\u001b[0m\u001b[01;34mcmpsc-100-fall-2020-week-00-configuration\u001b[0m/\n",
      "\u001b[01;34mcmpsc-100-spring-2020-summer-template\u001b[0m/\n"
     ]
    }
   ],
   "source": [
    "ls"
   ]
  },
  {
   "cell_type": "markdown",
   "metadata": {},
   "source": [
    "We're part of the way there, it seems. The `cmpsc-100-fall-2020-week-00-configuration` folder is one part of the _path_ -- the list of directories that make up a full location on a file system.\n",
    "\n",
    "Let's `cd` into it. But first -- a trick that works in both notebooks and terminals: after typing `cd`, add a space and type _just a part_ of the directory name you want to `cd` to."
   ]
  },
  {
   "cell_type": "code",
   "execution_count": 6,
   "metadata": {},
   "outputs": [
    {
     "name": "stdout",
     "output_type": "stream",
     "text": [
      "/jupyter/dluman/cmpsc-100-fall-2020-week-00-configuration\n"
     ]
    }
   ],
   "source": [
    "cd cmpsc-100-fall-2020-week-00-configuration/"
   ]
  },
  {
   "cell_type": "markdown",
   "metadata": {},
   "source": [
    "Let's look around again."
   ]
  },
  {
   "cell_type": "code",
   "execution_count": 7,
   "metadata": {},
   "outputs": [
    {
     "name": "stdout",
     "output_type": "stream",
     "text": [
      "Pipfile       README.md     \u001b[0m\u001b[01;34mconfig\u001b[0m/            \u001b[01;34mlab\u001b[0m/      \u001b[01;34mworksheets\u001b[0m/\n",
      "Pipfile.lock  build.gradle  gradle.properties  \u001b[01;34msandbox\u001b[0m/\n"
     ]
    }
   ],
   "source": [
    "ls"
   ]
  },
  {
   "cell_type": "markdown",
   "metadata": {},
   "source": [
    "Looks like we're closer. The next part of the path, `worksheets` is here. How can we _go there_?"
   ]
  },
  {
   "cell_type": "code",
   "execution_count": 8,
   "metadata": {},
   "outputs": [
    {
     "name": "stdout",
     "output_type": "stream",
     "text": [
      "/jupyter/dluman/cmpsc-100-fall-2020-week-00-configuration/worksheets\n"
     ]
    }
   ],
   "source": [
    "cd worksheets"
   ]
  },
  {
   "cell_type": "markdown",
   "metadata": {},
   "source": [
    "If we look around here, are we where we wanted to be?"
   ]
  },
  {
   "cell_type": "markdown",
   "metadata": {},
   "source": [
    "`TODO: Answer`"
   ]
  },
  {
   "cell_type": "markdown",
   "metadata": {},
   "source": [
    "### Going a bit farther"
   ]
  },
  {
   "cell_type": "code",
   "execution_count": null,
   "metadata": {},
   "outputs": [],
   "source": []
  }
 ],
 "metadata": {
  "kernelspec": {
   "display_name": "Python 3",
   "language": "python",
   "name": "python3"
  },
  "language_info": {
   "codemirror_mode": {
    "name": "ipython",
    "version": 3
   },
   "file_extension": ".py",
   "mimetype": "text/x-python",
   "name": "python",
   "nbconvert_exporter": "python",
   "pygments_lexer": "ipython3",
   "version": "3.8.2"
  }
 },
 "nbformat": 4,
 "nbformat_minor": 4
}
