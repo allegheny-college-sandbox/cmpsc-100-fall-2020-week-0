{
 "cells": [
  {
   "cell_type": "markdown",
   "metadata": {},
   "source": [
    "# CMPSC 100: `Configuration`\n",
    "\n",
    "---\n",
    "\n",
    "The following worksheet serves as a checklist providing the steps required to complete class platform setup. By virtue of the fact that you can see and interact with this worksheet, you've already done some of these. Steps you have completed are ~struck through~ in the list below.\n",
    "\n",
    "It's 100% possible that you've already completed some of the items listed below. If that's the case, simply complete those you haven't.\n",
    "\n",
    "## Table of Contents\n",
    "\n",
    "* [Setting up platforms](#Setting-up-platforms)\n",
    "  * [Slack](#Slack)\n",
    "  * [GitHub](#GitHub)"
   ]
  },
  {
   "cell_type": "markdown",
   "metadata": {},
   "source": [
    "## Setting up platforms\n",
    "\n",
    "### Slack\n",
    "\n",
    "* Accept my [invitation to our Slack workspace](https://join.slack.com/t/cmpsc-100-00-fa-2020/shared_invite/zt-h10bbkvl-hSjKRkUl~DVMRN7SBCDgTg)\n",
    "* Post your introduction to the class in the `#general` channel\n",
    "\n",
    "#### Introduction\n",
    "\n",
    "This introduction offers you the opportunity to start the process of building class community by telling everyone a bit about yourself. In order to give everyone the best chance to do so, I've provided a script that I'd like you to follow (i.e. cover the areas listed below). Please complete this in _one_ post -- not sequential ones.\n",
    "\n",
    "- Your name\n",
    "- Your goal/reason for taking this course\n",
    "- Your first association with the term \"computation\"\n",
    "- Your first association with the term \"expression\"\n",
    "- The title of your favorite story\n",
    "  - Interpret the term \"story\" liberally -- can be a film, game, et al.\n",
    "- A summary of that story in _no more than 2 short sentences_\n",
    "  - I mean _short_\n",
    "- One question you have about this course\n",
    "\n",
    "Feel free to use the following \"cell\" to draft your introduction before copying and pasting it into the Slack chat window, if you'd like. Of course, you can type it directly in our course Slack using `Shift`+`Enter` to create line breaks."
   ]
  },
  {
   "cell_type": "raw",
   "metadata": {},
   "source": [
    "Draft your introduction here"
   ]
  },
  {
   "cell_type": "markdown",
   "metadata": {},
   "source": [
    "### GitHub\n",
    "\n",
    "* ~Create GitHub account~\n",
    "  * If you haven't completed this, find my invitation in your Allegheny email\n",
    "  * Can't find the invite? Direct message me on our [course Slack](https://cmpsc-100-00-fa-2020.slack.com) and I'll send another\n",
    "* ~Accept your first GitHub Classroom assignment~\n",
    "* ~`clone` your first repository~\n",
    "* Create and add an SSH key to GitHub\n",
    "\n",
    "#### Create and add an SSH key to GitHub\n"
   ]
  },
  {
   "cell_type": "markdown",
   "metadata": {},
   "source": [
    "#### The \"terminal\"\n",
    "\n",
    "This will require you to open a \"terminal\" session. Luckily, we can do this this through JupyterLab! Like many things that we'll explore in this class, there are many ways to achieve this goal.\n",
    "\n",
    "##### From the `File` menu\n",
    "\n",
    "* Click the `File` menu\n",
    "* Select `New`\n",
    "* From the resulting sub-menu, select `Terminal`\n",
    "* A new terminal session will appear as a tab in your workspace\n",
    "\n",
    "\n"
   ]
  },
  {
   "cell_type": "markdown",
   "metadata": {},
   "source": [
    "##### From the `Launcher` tab\n",
    "\n",
    "* Select the `Launcher` tab\n",
    "* Locate and click the `Terminal` tile\n",
    "* A new terminal session will appear as a tab in your workspace\n",
    "\n"
   ]
  },
  {
   "cell_type": "markdown",
   "metadata": {},
   "source": [
    "#### Creating an SSH key\n",
    "\n",
    "\n",
    "\n",
    "Here, we're not going to focus on terminal commands: [we have a separate worksheet for exploring them further](2%20-%20CMPSC%20100%20-%20Week%2000%20-%20Worksheet%20-%20Terminal%20commands.ipynb). For this exercise, follow the activity in the video linked below to create an SSH key."
   ]
  },
  {
   "cell_type": "code",
   "execution_count": null,
   "metadata": {},
   "outputs": [],
   "source": []
  }
 ],
 "metadata": {
  "kernelspec": {
   "display_name": "Python 3",
   "language": "python",
   "name": "python3"
  },
  "language_info": {
   "codemirror_mode": {
    "name": "ipython",
    "version": 3
   },
   "file_extension": ".py",
   "mimetype": "text/x-python",
   "name": "python",
   "nbconvert_exporter": "python",
   "pygments_lexer": "ipython3",
   "version": "3.8.2"
  }
 },
 "nbformat": 4,
 "nbformat_minor": 4
}
