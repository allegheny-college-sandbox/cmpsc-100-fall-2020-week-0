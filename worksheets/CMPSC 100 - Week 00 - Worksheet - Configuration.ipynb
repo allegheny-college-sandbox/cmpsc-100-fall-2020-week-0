{
 "cells": [
  {
   "cell_type": "markdown",
   "metadata": {},
   "source": [
    "# CMPSC 100: `TITLE`\n",
    "\n",
    "---\n",
    "\n",
    "The following worksheet asks you to participate in a programming-based number trick based on the following topics:\n",
    "\n",
    "* ...\n",
    "* ...\n",
    "* ...\n",
    "\n",
    "Portions of the worksheet `will require you to reference values calculated as the answers in previous questions, so be sure to follow the instructions and use the variable name suggested.\n",
    "\n",
    "* The `Activity` portion of the worksheet outlines the programming work that you need to complete. \n",
    "  * Think of this section as *how* you do something in Python.\n",
    "* The `Q & A` portion asks a few questions for you to think about and answer.\n",
    "  * This portion underscores *why* you might do something while programming in Python.\n",
    "\n",
    "\n",
    "## Table of Contents\n",
    "\n",
    "* [Activity](#Activity)\n",
    "  * [Final Check](#Final-check)\n",
    "* [Q&A](#Q-&-A)"
   ]
  },
  {
   "cell_type": "markdown",
   "metadata": {},
   "source": [
    "## Activity"
   ]
  },
  {
   "cell_type": "markdown",
   "metadata": {},
   "source": [
    "### 1. If `foo`, does `foo[\"bar\"]` `baz`?"
   ]
  },
  {
   "cell_type": "code",
   "execution_count": 1,
   "metadata": {},
   "outputs": [
    {
     "name": "stdout",
     "output_type": "stream",
     "text": [
      "True\n"
     ]
    }
   ],
   "source": [
    "foo = {}\n",
    "foo[\"bar\"] = \"baz\"\n",
    "\n",
    "# Evaluate foo[\"bar\"] to see if baz\n",
    "\n",
    "for val in foo:\n",
    "    try:\n",
    "        if foo[val] == \"baz\" and val == \"bar\":\n",
    "            print(True)\n",
    "    except KeyError:\n",
    "        print(\"There's no bar in a foo to baz!\")"
   ]
  },
  {
   "cell_type": "markdown",
   "metadata": {},
   "source": [
    "### Final check"
   ]
  },
  {
   "cell_type": "code",
   "execution_count": null,
   "metadata": {},
   "outputs": [],
   "source": [
    "# Implement some final check to ensure to allow for a find of \"exit ticket\"?"
   ]
  },
  {
   "cell_type": "markdown",
   "metadata": {},
   "source": [
    "## Q & A"
   ]
  },
  {
   "cell_type": "markdown",
   "metadata": {},
   "source": [
    "`A short series of questions (no more than 5) to provide notes for review when returning from activity break`"
   ]
  }
 ],
 "metadata": {
  "kernelspec": {
   "display_name": "Python 3",
   "language": "python",
   "name": "python3"
  },
  "language_info": {
   "codemirror_mode": {
    "name": "ipython",
    "version": 3
   },
   "file_extension": ".py",
   "mimetype": "text/x-python",
   "name": "python",
   "nbconvert_exporter": "python",
   "pygments_lexer": "ipython3",
   "version": "3.8.2"
  }
 },
 "nbformat": 4,
 "nbformat_minor": 4
}
